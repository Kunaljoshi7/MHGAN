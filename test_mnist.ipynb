{
 "cells": [
  {
   "cell_type": "code",
   "execution_count": 1,
   "metadata": {},
   "outputs": [],
   "source": [
    "%matplotlib inline\n",
    "import matplotlib.pyplot as plt"
   ]
  },
  {
   "cell_type": "code",
   "execution_count": null,
   "metadata": {},
   "outputs": [
    {
     "name": "stderr",
     "output_type": "stream",
     "text": [
      "Using TensorFlow backend.\n"
     ]
    }
   ],
   "source": [
    "from demo_mnist import *\n",
    "sess = tf.Session()"
   ]
  },
  {
   "cell_type": "code",
   "execution_count": null,
   "metadata": {},
   "outputs": [],
   "source": [
    "real_data = mnist_data()\n",
    "\n",
    "noise_dimensions = [ 100 ]\n",
    "real_dimensions = real_data.shape[1:]\n",
    "\n",
    "noise_sampler = create_noise_sampler()\n",
    "data_sampler = create_data_sampler(real_data, subset_size=20000)"
   ]
  },
  {
   "cell_type": "code",
   "execution_count": null,
   "metadata": {},
   "outputs": [],
   "source": [
    "gan = WGAN(\n",
    "    Generator(input_shape=noise_dimensions, output_shape=real_dimensions),\n",
    "    Discriminator()\n",
    ")\n",
    "gan.train_accumulate = create_accumulator(\n",
    "    sample_nth=100,\n",
    "    sess=sess,\n",
    "    output_path='output/summaries/wgan'\n",
    ")"
   ]
  },
  {
   "cell_type": "code",
   "execution_count": null,
   "metadata": {},
   "outputs": [],
   "source": [
    "gan.generate = lambda count: create_images_from_samples(sess.run(\n",
    "    gan.G,\n",
    "    feed_dict={gan.z: noise_sampler((count, *gan.generator.input_shape))}\n",
    ").squeeze(axis=3))"
   ]
  },
  {
   "cell_type": "code",
   "execution_count": null,
   "metadata": {
    "scrolled": false
   },
   "outputs": [],
   "source": [
    "gan.train(\n",
    "    sess,\n",
    "    data_sampler,\n",
    "    noise_sampler,\n",
    "    batch_size=128,\n",
    "    n_epochs=3000,\n",
    "    n_critic=5,\n",
    "    n_accumulate=10\n",
    ")"
   ]
  },
  {
   "cell_type": "code",
   "execution_count": null,
   "metadata": {},
   "outputs": [],
   "source": [
    "gan.generate(10)"
   ]
  }
 ],
 "metadata": {
  "kernelspec": {
   "display_name": "Python 3",
   "language": "python",
   "name": "python3"
  },
  "language_info": {
   "codemirror_mode": {
    "name": "ipython",
    "version": 3
   },
   "file_extension": ".py",
   "mimetype": "text/x-python",
   "name": "python",
   "nbconvert_exporter": "python",
   "pygments_lexer": "ipython3",
   "version": "3.6.5"
  }
 },
 "nbformat": 4,
 "nbformat_minor": 2
}
