{
 "cells": [
  {
   "cell_type": "code",
   "execution_count": null,
   "metadata": {},
   "outputs": [],
   "source": [
    "%matplotlib inline\n",
    "from test_mnist import *"
   ]
  },
  {
   "cell_type": "code",
   "execution_count": null,
   "metadata": {},
   "outputs": [],
   "source": [
    "sess = tf.Session()\n",
    "real_data = mnist_data()\n",
    "noise_dimensions = [ 100 ]\n",
    "real_dimensions = real_data.shape[1:]\n",
    "noise_sampler = create_noise_sampler()\n",
    "data_sampler = create_data_sampler(real_data, subset_size=10000)"
   ]
  },
  {
   "cell_type": "code",
   "execution_count": null,
   "metadata": {},
   "outputs": [],
   "source": [
    "gan = WGAN(\n",
    "    Generator(\n",
    "        input_shape=noise_dimensions,\n",
    "        output_shape=real_dimensions\n",
    "    ),\n",
    "    Discriminator()\n",
    ")\n",
    "gan.train_helper = create_train_helper(\n",
    "    sess=sess,\n",
    "    sample_count=25,\n",
    "    sample_nth=10,\n",
    "    sample_save=True,\n",
    "    output_path='output/summaries/wgan',\n",
    ")"
   ]
  },
  {
   "cell_type": "code",
   "execution_count": null,
   "metadata": {
    "scrolled": true
   },
   "outputs": [],
   "source": [
    "gan.train(\n",
    "    sess,\n",
    "    data_sampler,\n",
    "    noise_sampler,\n",
    "    batch_size=128,\n",
    "    n_epochs=2000,\n",
    "    n_critic=5,\n",
    "    n_accumulate=1\n",
    ")"
   ]
  },
  {
   "cell_type": "code",
   "execution_count": null,
   "metadata": {},
   "outputs": [],
   "source": [
    "%load_ext autoreload\n",
    "%autoreload 2\n",
    "from mhgan.mhgan import MHGAN"
   ]
  },
  {
   "cell_type": "code",
   "execution_count": null,
   "metadata": {},
   "outputs": [],
   "source": [
    "mhgan = MHGAN(gan)"
   ]
  },
  {
   "cell_type": "code",
   "execution_count": null,
   "metadata": {},
   "outputs": [],
   "source": [
    "# Generate some basic samples\n",
    "images_from_samples(mhgan.generate(\n",
    "    sess,\n",
    "    noise_sampler,\n",
    "    count=100,\n",
    "), dimensions=(10, 10), save=False)"
   ]
  },
  {
   "cell_type": "code",
   "execution_count": null,
   "metadata": {},
   "outputs": [],
   "source": [
    "# Generate some MH samples\n",
    "images_from_samples(mhgan.generate_enhanced(\n",
    "    sess,\n",
    "    data_sampler,\n",
    "    noise_sampler,\n",
    "    count=36,\n",
    "    k=1000\n",
    "), dimensions=(6, 6), save=False)"
   ]
  },
  {
   "cell_type": "code",
   "execution_count": null,
   "metadata": {},
   "outputs": [],
   "source": []
  }
 ],
 "metadata": {
  "kernelspec": {
   "display_name": "Python 3",
   "language": "python",
   "name": "python3"
  },
  "language_info": {
   "codemirror_mode": {
    "name": "ipython",
    "version": 3
   },
   "file_extension": ".py",
   "mimetype": "text/x-python",
   "name": "python",
   "nbconvert_exporter": "python",
   "pygments_lexer": "ipython3",
   "version": "3.6.5"
  }
 },
 "nbformat": 4,
 "nbformat_minor": 2
}
